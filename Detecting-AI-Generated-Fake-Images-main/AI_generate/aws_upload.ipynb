{
 "cells": [
  {
   "cell_type": "code",
   "execution_count": 160,
   "metadata": {},
   "outputs": [],
   "source": [
    "import pandas as pd\n",
    "\n",
    "fa = pd.read_csv(\"facialexpression.csv\")\n",
    "glasses = pd.read_csv(\"labels_glasses.csv\", header = 0)\n",
    "race = pd.read_csv(\"race.csv\")"
   ]
  },
  {
   "cell_type": "code",
   "execution_count": 161,
   "metadata": {},
   "outputs": [
    {
     "data": {
      "text/plain": [
       "(64441, 3)"
      ]
     },
     "execution_count": 161,
     "metadata": {},
     "output_type": "execute_result"
    }
   ],
   "source": [
    "race.shape"
   ]
  },
  {
   "cell_type": "code",
   "execution_count": 162,
   "metadata": {},
   "outputs": [
    {
     "data": {
      "text/html": [
       "<div>\n",
       "<style scoped>\n",
       "    .dataframe tbody tr th:only-of-type {\n",
       "        vertical-align: middle;\n",
       "    }\n",
       "\n",
       "    .dataframe tbody tr th {\n",
       "        vertical-align: top;\n",
       "    }\n",
       "\n",
       "    .dataframe thead th {\n",
       "        text-align: right;\n",
       "    }\n",
       "</style>\n",
       "<table border=\"1\" class=\"dataframe\">\n",
       "  <thead>\n",
       "    <tr style=\"text-align: right;\">\n",
       "      <th></th>\n",
       "      <th>Name</th>\n",
       "      <th>FacialExp</th>\n",
       "    </tr>\n",
       "  </thead>\n",
       "  <tbody>\n",
       "    <tr>\n",
       "      <th>0</th>\n",
       "      <td>00000.png</td>\n",
       "      <td>neutral</td>\n",
       "    </tr>\n",
       "    <tr>\n",
       "      <th>1</th>\n",
       "      <td>00001.png</td>\n",
       "      <td>happy</td>\n",
       "    </tr>\n",
       "    <tr>\n",
       "      <th>2</th>\n",
       "      <td>00002.png</td>\n",
       "      <td>neutral</td>\n",
       "    </tr>\n",
       "    <tr>\n",
       "      <th>3</th>\n",
       "      <td>00003.png</td>\n",
       "      <td>neutral</td>\n",
       "    </tr>\n",
       "    <tr>\n",
       "      <th>4</th>\n",
       "      <td>00004.png</td>\n",
       "      <td>neutral</td>\n",
       "    </tr>\n",
       "  </tbody>\n",
       "</table>\n",
       "</div>"
      ],
      "text/plain": [
       "        Name FacialExp\n",
       "0  00000.png   neutral\n",
       "1  00001.png     happy\n",
       "2  00002.png   neutral\n",
       "3  00003.png   neutral\n",
       "4  00004.png   neutral"
      ]
     },
     "execution_count": 162,
     "metadata": {},
     "output_type": "execute_result"
    }
   ],
   "source": [
    "# generate a dictionary of replacement values\n",
    "replacements = {}\n",
    "for i in range(fa.shape[0]):\n",
    "    replacements[i] = f'{i:05}.png'\n",
    "\n",
    "# replace values in the \"name\" column\n",
    "fa['Name'] = fa['Name'].replace(replacements)\n",
    "\n",
    "# display the modified dataframe\n",
    "fa.head()\n"
   ]
  },
  {
   "cell_type": "code",
   "execution_count": 163,
   "metadata": {},
   "outputs": [
    {
     "name": "stdout",
     "output_type": "stream",
     "text": [
      "(70000, 3)\n",
      "(64441, 5)\n"
     ]
    }
   ],
   "source": [
    "merged_df = fa.merge(glasses, on=\"Name\", how=\"inner\")\n",
    "print(merged_df.shape)\n",
    "# merge the race dataframe with the selected_df on the \"Name\" column\n",
    "merged_df = merged_df.merge(race, on=\"Name\", how=\"inner\")\n",
    "print(merged_df.shape)"
   ]
  },
  {
   "cell_type": "code",
   "execution_count": 164,
   "metadata": {},
   "outputs": [],
   "source": [
    "# merged_df.groupby([\"FacialExp\"]).count()\n",
    "merged_df.FacialExp = merged_df.FacialExp.replace({\"angry\" : \"neg\", \"disgust\": \"neg\", \"fear\": \"neg\", \"happy\" : \"pos\", \"sad\": \"neg\", \"surprise\" : \"pos\"})\n",
    "merged_df.Race = merged_df.Race.replace({\"indian\" : \"asian\", \"middle eastern\": \"asian\"})"
   ]
  },
  {
   "cell_type": "code",
   "execution_count": 165,
   "metadata": {},
   "outputs": [],
   "source": [
    "df_final = merged_df.loc[merged_df[\"FacialExp\"] == \"neg\"]"
   ]
  },
  {
   "cell_type": "code",
   "execution_count": 166,
   "metadata": {},
   "outputs": [],
   "source": [
    "black = merged_df.loc[merged_df[\"Race\"] == \"black\"]\n",
    "hos = merged_df.loc[merged_df[\"Race\"] == \"latino hispanic\"]\n"
   ]
  },
  {
   "cell_type": "code",
   "execution_count": 167,
   "metadata": {},
   "outputs": [],
   "source": [
    "df_final = pd.concat([df_final, black])\n",
    "df_final = pd.concat([df_final, hos])"
   ]
  },
  {
   "cell_type": "code",
   "execution_count": 168,
   "metadata": {},
   "outputs": [],
   "source": [
    "df_final = df_final.drop_duplicates(subset=\"Name\")"
   ]
  },
  {
   "cell_type": "code",
   "execution_count": 171,
   "metadata": {},
   "outputs": [],
   "source": [
    "women_images = list(df_final.loc[df_final[\"Gender\"] == \"Woman\"][\"Name\"])\n",
    "df_final_other_women = merged_df.loc[~merged_df[\"Name\"].isin(women_images)]\n",
    "df_final_other_women = df_final_other_women.loc[df_final_other_women[\"Gender\"] == \"Woman\"][:5001]"
   ]
  },
  {
   "cell_type": "code",
   "execution_count": 180,
   "metadata": {},
   "outputs": [],
   "source": [
    "asian_images = list(df_final.loc[df_final[\"Race\"] == \"asian\"][\"Name\"])\n",
    "df_final_other_asian = merged_df.loc[~merged_df[\"Name\"].isin(asian_images)]\n",
    "df_final_other_asian = df_final_other_asian.loc[df_final_other_asian[\"Race\"] == \"asian\"][:5001]"
   ]
  },
  {
   "cell_type": "code",
   "execution_count": 181,
   "metadata": {},
   "outputs": [],
   "source": [
    "df_final = pd.concat([df_final, df_final_other_asian])\n",
    "df_final = df_final.drop_duplicates(subset=\"Name\")"
   ]
  },
  {
   "cell_type": "code",
   "execution_count": 173,
   "metadata": {},
   "outputs": [],
   "source": [
    "df_final = pd.concat([df_final, df_final_other_women])\n",
    "df_final = df_final.drop_duplicates(subset=\"Name\")"
   ]
  },
  {
   "cell_type": "code",
   "execution_count": 182,
   "metadata": {},
   "outputs": [
    {
     "data": {
      "text/plain": [
       "(25586, 5)"
      ]
     },
     "execution_count": 182,
     "metadata": {},
     "output_type": "execute_result"
    }
   ],
   "source": [
    "df_final.shape"
   ]
  },
  {
   "cell_type": "code",
   "execution_count": 183,
   "metadata": {},
   "outputs": [
    {
     "data": {
      "text/html": [
       "<div>\n",
       "<style scoped>\n",
       "    .dataframe tbody tr th:only-of-type {\n",
       "        vertical-align: middle;\n",
       "    }\n",
       "\n",
       "    .dataframe tbody tr th {\n",
       "        vertical-align: top;\n",
       "    }\n",
       "\n",
       "    .dataframe thead th {\n",
       "        text-align: right;\n",
       "    }\n",
       "</style>\n",
       "<table border=\"1\" class=\"dataframe\">\n",
       "  <thead>\n",
       "    <tr style=\"text-align: right;\">\n",
       "      <th></th>\n",
       "      <th>Name</th>\n",
       "      <th>FacialExp</th>\n",
       "      <th>Glasses</th>\n",
       "      <th>Gender</th>\n",
       "    </tr>\n",
       "    <tr>\n",
       "      <th>Race</th>\n",
       "      <th></th>\n",
       "      <th></th>\n",
       "      <th></th>\n",
       "      <th></th>\n",
       "    </tr>\n",
       "  </thead>\n",
       "  <tbody>\n",
       "    <tr>\n",
       "      <th>asian</th>\n",
       "      <td>7750</td>\n",
       "      <td>7750</td>\n",
       "      <td>7750</td>\n",
       "      <td>7750</td>\n",
       "    </tr>\n",
       "    <tr>\n",
       "      <th>black</th>\n",
       "      <td>2717</td>\n",
       "      <td>2717</td>\n",
       "      <td>2717</td>\n",
       "      <td>2717</td>\n",
       "    </tr>\n",
       "    <tr>\n",
       "      <th>latino hispanic</th>\n",
       "      <td>7305</td>\n",
       "      <td>7305</td>\n",
       "      <td>7305</td>\n",
       "      <td>7305</td>\n",
       "    </tr>\n",
       "    <tr>\n",
       "      <th>white</th>\n",
       "      <td>7814</td>\n",
       "      <td>7814</td>\n",
       "      <td>7814</td>\n",
       "      <td>7814</td>\n",
       "    </tr>\n",
       "  </tbody>\n",
       "</table>\n",
       "</div>"
      ],
      "text/plain": [
       "                 Name  FacialExp  Glasses  Gender\n",
       "Race                                             \n",
       "asian            7750       7750     7750    7750\n",
       "black            2717       2717     2717    2717\n",
       "latino hispanic  7305       7305     7305    7305\n",
       "white            7814       7814     7814    7814"
      ]
     },
     "execution_count": 183,
     "metadata": {},
     "output_type": "execute_result"
    }
   ],
   "source": [
    "df_final.groupby([\"Race\"]).count()"
   ]
  },
  {
   "cell_type": "code",
   "execution_count": 184,
   "metadata": {},
   "outputs": [
    {
     "data": {
      "text/html": [
       "<div>\n",
       "<style scoped>\n",
       "    .dataframe tbody tr th:only-of-type {\n",
       "        vertical-align: middle;\n",
       "    }\n",
       "\n",
       "    .dataframe tbody tr th {\n",
       "        vertical-align: top;\n",
       "    }\n",
       "\n",
       "    .dataframe thead th {\n",
       "        text-align: right;\n",
       "    }\n",
       "</style>\n",
       "<table border=\"1\" class=\"dataframe\">\n",
       "  <thead>\n",
       "    <tr style=\"text-align: right;\">\n",
       "      <th></th>\n",
       "      <th>Name</th>\n",
       "      <th>Glasses</th>\n",
       "      <th>Gender</th>\n",
       "      <th>Race</th>\n",
       "    </tr>\n",
       "    <tr>\n",
       "      <th>FacialExp</th>\n",
       "      <th></th>\n",
       "      <th></th>\n",
       "      <th></th>\n",
       "      <th></th>\n",
       "    </tr>\n",
       "  </thead>\n",
       "  <tbody>\n",
       "    <tr>\n",
       "      <th>neg</th>\n",
       "      <td>6523</td>\n",
       "      <td>6523</td>\n",
       "      <td>6523</td>\n",
       "      <td>6523</td>\n",
       "    </tr>\n",
       "    <tr>\n",
       "      <th>neutral</th>\n",
       "      <td>5769</td>\n",
       "      <td>5769</td>\n",
       "      <td>5769</td>\n",
       "      <td>5769</td>\n",
       "    </tr>\n",
       "    <tr>\n",
       "      <th>pos</th>\n",
       "      <td>13294</td>\n",
       "      <td>13294</td>\n",
       "      <td>13294</td>\n",
       "      <td>13294</td>\n",
       "    </tr>\n",
       "  </tbody>\n",
       "</table>\n",
       "</div>"
      ],
      "text/plain": [
       "            Name  Glasses  Gender   Race\n",
       "FacialExp                               \n",
       "neg         6523     6523    6523   6523\n",
       "neutral     5769     5769    5769   5769\n",
       "pos        13294    13294   13294  13294"
      ]
     },
     "execution_count": 184,
     "metadata": {},
     "output_type": "execute_result"
    }
   ],
   "source": [
    "df_final.groupby([\"FacialExp\"]).count()"
   ]
  },
  {
   "cell_type": "code",
   "execution_count": 185,
   "metadata": {},
   "outputs": [
    {
     "data": {
      "text/html": [
       "<div>\n",
       "<style scoped>\n",
       "    .dataframe tbody tr th:only-of-type {\n",
       "        vertical-align: middle;\n",
       "    }\n",
       "\n",
       "    .dataframe tbody tr th {\n",
       "        vertical-align: top;\n",
       "    }\n",
       "\n",
       "    .dataframe thead th {\n",
       "        text-align: right;\n",
       "    }\n",
       "</style>\n",
       "<table border=\"1\" class=\"dataframe\">\n",
       "  <thead>\n",
       "    <tr style=\"text-align: right;\">\n",
       "      <th></th>\n",
       "      <th>Name</th>\n",
       "      <th>FacialExp</th>\n",
       "      <th>Gender</th>\n",
       "      <th>Race</th>\n",
       "    </tr>\n",
       "    <tr>\n",
       "      <th>Glasses</th>\n",
       "      <th></th>\n",
       "      <th></th>\n",
       "      <th></th>\n",
       "      <th></th>\n",
       "    </tr>\n",
       "  </thead>\n",
       "  <tbody>\n",
       "    <tr>\n",
       "      <th>0</th>\n",
       "      <td>17064</td>\n",
       "      <td>17064</td>\n",
       "      <td>17064</td>\n",
       "      <td>17064</td>\n",
       "    </tr>\n",
       "    <tr>\n",
       "      <th>1</th>\n",
       "      <td>8517</td>\n",
       "      <td>8517</td>\n",
       "      <td>8517</td>\n",
       "      <td>8517</td>\n",
       "    </tr>\n",
       "    <tr>\n",
       "      <th>No face detected</th>\n",
       "      <td>5</td>\n",
       "      <td>5</td>\n",
       "      <td>5</td>\n",
       "      <td>5</td>\n",
       "    </tr>\n",
       "  </tbody>\n",
       "</table>\n",
       "</div>"
      ],
      "text/plain": [
       "                   Name  FacialExp  Gender   Race\n",
       "Glasses                                          \n",
       "0                 17064      17064   17064  17064\n",
       "1                  8517       8517    8517   8517\n",
       "No face detected      5          5       5      5"
      ]
     },
     "execution_count": 185,
     "metadata": {},
     "output_type": "execute_result"
    }
   ],
   "source": [
    "df_final.groupby([\"Glasses\"]).count()"
   ]
  },
  {
   "cell_type": "code",
   "execution_count": 186,
   "metadata": {},
   "outputs": [
    {
     "data": {
      "text/html": [
       "<div>\n",
       "<style scoped>\n",
       "    .dataframe tbody tr th:only-of-type {\n",
       "        vertical-align: middle;\n",
       "    }\n",
       "\n",
       "    .dataframe tbody tr th {\n",
       "        vertical-align: top;\n",
       "    }\n",
       "\n",
       "    .dataframe thead th {\n",
       "        text-align: right;\n",
       "    }\n",
       "</style>\n",
       "<table border=\"1\" class=\"dataframe\">\n",
       "  <thead>\n",
       "    <tr style=\"text-align: right;\">\n",
       "      <th></th>\n",
       "      <th>Name</th>\n",
       "      <th>FacialExp</th>\n",
       "      <th>Glasses</th>\n",
       "      <th>Race</th>\n",
       "    </tr>\n",
       "    <tr>\n",
       "      <th>Gender</th>\n",
       "      <th></th>\n",
       "      <th></th>\n",
       "      <th></th>\n",
       "      <th></th>\n",
       "    </tr>\n",
       "  </thead>\n",
       "  <tbody>\n",
       "    <tr>\n",
       "      <th>Man</th>\n",
       "      <td>14983</td>\n",
       "      <td>14983</td>\n",
       "      <td>14983</td>\n",
       "      <td>14983</td>\n",
       "    </tr>\n",
       "    <tr>\n",
       "      <th>Woman</th>\n",
       "      <td>10603</td>\n",
       "      <td>10603</td>\n",
       "      <td>10603</td>\n",
       "      <td>10603</td>\n",
       "    </tr>\n",
       "  </tbody>\n",
       "</table>\n",
       "</div>"
      ],
      "text/plain": [
       "         Name  FacialExp  Glasses   Race\n",
       "Gender                                  \n",
       "Man     14983      14983    14983  14983\n",
       "Woman   10603      10603    10603  10603"
      ]
     },
     "execution_count": 186,
     "metadata": {},
     "output_type": "execute_result"
    }
   ],
   "source": [
    "df_final.groupby([\"Gender\"]).count()"
   ]
  },
  {
   "cell_type": "code",
   "execution_count": 187,
   "metadata": {},
   "outputs": [],
   "source": [
    "df_final.to_csv('df_final.csv')"
   ]
  },
  {
   "cell_type": "code",
   "execution_count": 188,
   "metadata": {},
   "outputs": [
    {
     "data": {
      "text/plain": [
       "(25586, 5)"
      ]
     },
     "execution_count": 188,
     "metadata": {},
     "output_type": "execute_result"
    }
   ],
   "source": [
    "df_final.shape"
   ]
  },
  {
   "cell_type": "code",
   "execution_count": 12,
   "metadata": {},
   "outputs": [
    {
     "name": "stdout",
     "output_type": "stream",
     "text": [
      "FacialExp  Glasses  Gender  Race           \n",
      "angry      0        Woman   asian                1\n",
      "                    Man     asian              160\n",
      "                            black               41\n",
      "                            indian              17\n",
      "                            latino hispanic    160\n",
      "                                              ... \n",
      "surprise   1        Woman   black                1\n",
      "                            indian               2\n",
      "                            latino hispanic     10\n",
      "                            middle eastern       2\n",
      "                            white               64\n",
      "Length: 156, dtype: int64\n",
      "            Name FacialExp Glasses Gender   Race\n",
      "21697  27256.png     angry       0  Woman  asian\n",
      "64114  69673.png     angry       0    Man  asian\n",
      "45247  50806.png     angry       0    Man  asian\n",
      "32466  38025.png     angry       0    Man  asian\n",
      "62726  68285.png     angry       0    Man  asian\n",
      "...          ...       ...     ...    ...    ...\n",
      "3637   03637.png  surprise       1  Woman  white\n",
      "11377  11377.png  surprise       1  Woman  white\n",
      "36636  42195.png  surprise       1  Woman  white\n",
      "18789  24348.png  surprise       1  Woman  white\n",
      "53829  59388.png  surprise       1  Woman  white\n",
      "\n",
      "[11397 rows x 5 columns]\n"
     ]
    }
   ],
   "source": [
    "\n",
    "# drop rows with \"No face detected\" in the \"Glasses\" column\n",
    "merged_df[\"Glasses\"].replace(\"No face detected\", 0, inplace=True)\n",
    "\n",
    "# group the merged dataframe by FacialExp and Glasses\n",
    "grouped_df = merged_df.groupby([\"FacialExp\", \"Glasses\", 'Gender', 'Race'])\n",
    "\n",
    "# create an empty list to store the selected indices\n",
    "selected_indices = []\n",
    "\n",
    "# iterate over each group\n",
    "for name, group in grouped_df:\n",
    "    # calculate the number of pictures to select for this group\n",
    "    n = min(25000 // len(grouped_df), len(group))\n",
    "    # randomly select n indices from the group\n",
    "    indices = group.sample(n).index.tolist()\n",
    "    # add the selected indices to the list\n",
    "    selected_indices.extend(indices)\n",
    "\n",
    "# use the selected indices to create a new dataframe with the selected pictures\n",
    "selected_df = merged_df.loc[selected_indices]\n",
    "\n",
    "# display the number of pictures in each category\n",
    "print(selected_df.groupby([\"FacialExp\", \"Glasses\", \"Gender\", \"Race\"]).size())\n",
    "\n",
    "# display the selected dataframe\n",
    "print(selected_df)"
   ]
  },
  {
   "cell_type": "code",
   "execution_count": 18,
   "metadata": {},
   "outputs": [],
   "source": [
    "merged_df.to_csv(\"merge_df.csv\")"
   ]
  },
  {
   "cell_type": "code",
   "execution_count": 24,
   "metadata": {},
   "outputs": [
    {
     "data": {
      "text/plain": [
       "(11397, 5)"
      ]
     },
     "execution_count": 24,
     "metadata": {},
     "output_type": "execute_result"
    }
   ],
   "source": [
    "selected_df.shape"
   ]
  },
  {
   "cell_type": "code",
   "execution_count": 7,
   "metadata": {},
   "outputs": [
    {
     "name": "stdout",
     "output_type": "stream",
     "text": [
      "FacialExp  Glasses\n",
      "angry      0          1785\n",
      "           1          1785\n",
      "disgust    0             1\n",
      "           1             4\n",
      "fear       0           403\n",
      "           1           397\n",
      "happy      0          1785\n",
      "           1          1785\n",
      "neutral    0          1785\n",
      "           1          1785\n",
      "sad        0          1377\n",
      "           1           746\n",
      "surprise   0           932\n",
      "           1           310\n",
      "dtype: int64\n",
      "            Name FacialExp Glasses\n",
      "61922  61922.png     angry       0\n",
      "20846  20846.png     angry       0\n",
      "16835  16835.png     angry       0\n",
      "6771   06771.png     angry       0\n",
      "46941  46941.png     angry       0\n",
      "...          ...       ...     ...\n",
      "12070  12070.png  surprise       1\n",
      "10382  10382.png  surprise       1\n",
      "68622  68622.png  surprise       1\n",
      "63819  63819.png  surprise       1\n",
      "36234  36234.png  surprise       1\n",
      "\n",
      "[14880 rows x 3 columns]\n"
     ]
    }
   ],
   "source": []
  },
  {
   "cell_type": "code",
   "execution_count": 22,
   "metadata": {},
   "outputs": [
    {
     "data": {
      "text/html": [
       "<div>\n",
       "<style scoped>\n",
       "    .dataframe tbody tr th:only-of-type {\n",
       "        vertical-align: middle;\n",
       "    }\n",
       "\n",
       "    .dataframe tbody tr th {\n",
       "        vertical-align: top;\n",
       "    }\n",
       "\n",
       "    .dataframe thead th {\n",
       "        text-align: right;\n",
       "    }\n",
       "</style>\n",
       "<table border=\"1\" class=\"dataframe\">\n",
       "  <thead>\n",
       "    <tr style=\"text-align: right;\">\n",
       "      <th></th>\n",
       "      <th>Name</th>\n",
       "      <th>FacialExp</th>\n",
       "      <th>Glasses</th>\n",
       "      <th>Gender</th>\n",
       "      <th>Race</th>\n",
       "    </tr>\n",
       "  </thead>\n",
       "  <tbody>\n",
       "    <tr>\n",
       "      <th>0</th>\n",
       "      <td>00000.png</td>\n",
       "      <td>neutral</td>\n",
       "      <td>0</td>\n",
       "      <td>Woman</td>\n",
       "      <td>asian</td>\n",
       "    </tr>\n",
       "    <tr>\n",
       "      <th>1</th>\n",
       "      <td>00001.png</td>\n",
       "      <td>happy</td>\n",
       "      <td>1</td>\n",
       "      <td>Man</td>\n",
       "      <td>white</td>\n",
       "    </tr>\n",
       "    <tr>\n",
       "      <th>2</th>\n",
       "      <td>00002.png</td>\n",
       "      <td>neutral</td>\n",
       "      <td>0</td>\n",
       "      <td>Woman</td>\n",
       "      <td>black</td>\n",
       "    </tr>\n",
       "    <tr>\n",
       "      <th>3</th>\n",
       "      <td>00003.png</td>\n",
       "      <td>neutral</td>\n",
       "      <td>0</td>\n",
       "      <td>Man</td>\n",
       "      <td>asian</td>\n",
       "    </tr>\n",
       "    <tr>\n",
       "      <th>4</th>\n",
       "      <td>00004.png</td>\n",
       "      <td>neutral</td>\n",
       "      <td>0</td>\n",
       "      <td>Man</td>\n",
       "      <td>latino hispanic</td>\n",
       "    </tr>\n",
       "  </tbody>\n",
       "</table>\n",
       "</div>"
      ],
      "text/plain": [
       "        Name FacialExp Glasses Gender             Race\n",
       "0  00000.png   neutral       0  Woman            asian\n",
       "1  00001.png     happy       1    Man            white\n",
       "2  00002.png   neutral       0  Woman            black\n",
       "3  00003.png   neutral       0    Man            asian\n",
       "4  00004.png   neutral       0    Man  latino hispanic"
      ]
     },
     "execution_count": 22,
     "metadata": {},
     "output_type": "execute_result"
    }
   ],
   "source": [
    "merged_df.head()"
   ]
  },
  {
   "cell_type": "code",
   "execution_count": 1,
   "metadata": {},
   "outputs": [
    {
     "name": "stdout",
     "output_type": "stream",
     "text": [
      "dalle2images\n"
     ]
    }
   ],
   "source": [
    "import boto3\n",
    "import os \n",
    "\n",
    "AWS_Access_Key_ID = os.environ['AWS_ACCESS_KEY_ID']\n",
    "AWS_Secret_Access_Key = os.environ['AWS_SECRET_ACCESS_KEY']\n",
    "\n",
    "session = boto3.Session(\n",
    "    aws_access_key_id = AWS_Access_Key_ID,\n",
    "    aws_secret_access_key = AWS_Secret_Access_Key,\n",
    "    region_name='us-west-2'\n",
    ")\n",
    "\n",
    "s3 = session.resource('s3')\n",
    "for bucket in s3.buckets.all():\n",
    "    print(bucket.name)"
   ]
  },
  {
   "cell_type": "code",
   "execution_count": null,
   "metadata": {},
   "outputs": [],
   "source": []
  }
 ],
 "metadata": {
  "kernelspec": {
   "display_name": "Python 3",
   "language": "python",
   "name": "python3"
  },
  "language_info": {
   "codemirror_mode": {
    "name": "ipython",
    "version": 3
   },
   "file_extension": ".py",
   "mimetype": "text/x-python",
   "name": "python",
   "nbconvert_exporter": "python",
   "pygments_lexer": "ipython3",
   "version": "3.10.4"
  },
  "orig_nbformat": 4
 },
 "nbformat": 4,
 "nbformat_minor": 2
}

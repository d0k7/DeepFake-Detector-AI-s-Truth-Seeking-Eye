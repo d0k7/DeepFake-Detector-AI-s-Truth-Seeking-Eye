{
 "cells": [
  {
   "cell_type": "code",
   "execution_count": 3,
   "metadata": {},
   "outputs": [],
   "source": [
    "import pandas as pd\n",
    "import numpy as np\n"
   ]
  },
  {
   "cell_type": "code",
   "execution_count": 7,
   "metadata": {},
   "outputs": [
    {
     "data": {
      "text/plain": [
       "(25581, 7)"
      ]
     },
     "execution_count": 7,
     "metadata": {},
     "output_type": "execute_result"
    }
   ],
   "source": [
    "df = pd.read_csv('df_final.csv')\n",
    "df.head()\n",
    "df.shape"
   ]
  },
  {
   "cell_type": "code",
   "execution_count": 9,
   "metadata": {},
   "outputs": [
    {
     "data": {
      "text/plain": [
       "(64441, 6)"
      ]
     },
     "execution_count": 9,
     "metadata": {},
     "output_type": "execute_result"
    }
   ],
   "source": [
    "data = pd.read_csv('merge_df.csv')\n",
    "data.head()\n",
    "data.shape"
   ]
  },
  {
   "cell_type": "code",
   "execution_count": 6,
   "metadata": {},
   "outputs": [
    {
     "name": "stdout",
     "output_type": "stream",
     "text": [
      "5        0.000039\n",
      "17067    0.000039\n",
      "17065    0.000039\n",
      "17064    0.000039\n",
      "17063    0.000039\n",
      "           ...   \n",
      "8530     0.000039\n",
      "8529     0.000039\n",
      "8528     0.000039\n",
      "8527     0.000039\n",
      "25585    0.000039\n",
      "Name: Unnamed: 0.1, Length: 25581, dtype: float64\n",
      "60       0.000039\n",
      "5080     0.000039\n",
      "5073     0.000039\n",
      "5070     0.000039\n",
      "5068     0.000039\n",
      "           ...   \n",
      "50178    0.000039\n",
      "50149    0.000039\n",
      "50100    0.000039\n",
      "50098    0.000039\n",
      "26456    0.000039\n",
      "Name: Unnamed: 0, Length: 25581, dtype: float64\n",
      "00060.png    0.000039\n",
      "05080.png    0.000039\n",
      "05073.png    0.000039\n",
      "05070.png    0.000039\n",
      "05068.png    0.000039\n",
      "               ...   \n",
      "55737.png    0.000039\n",
      "55708.png    0.000039\n",
      "55659.png    0.000039\n",
      "55657.png    0.000039\n",
      "32015.png    0.000039\n",
      "Name: Name, Length: 25581, dtype: float64\n",
      "pos        0.519683\n",
      "neg        0.254798\n",
      "neutral    0.225519\n",
      "Name: FacialExp, dtype: float64\n",
      "0                   0.667018\n",
      "1                   0.332786\n",
      "No face detected    0.000195\n",
      "Name: Glasses, dtype: float64\n",
      "Man      0.585513\n",
      "Woman    0.414487\n",
      "Name: Gender, dtype: float64\n",
      "white              0.305344\n",
      "asian              0.302920\n",
      "latino hispanic    0.285564\n",
      "black              0.106173\n",
      "Name: Race, dtype: float64\n"
     ]
    }
   ],
   "source": [
    "for col in df.columns:\n",
    "    print(df[col].value_counts(normalize=True))"
   ]
  },
  {
   "cell_type": "code",
   "execution_count": 10,
   "metadata": {},
   "outputs": [
    {
     "name": "stdout",
     "output_type": "stream",
     "text": [
      "60       0.000039\n",
      "5080     0.000039\n",
      "5073     0.000039\n",
      "5070     0.000039\n",
      "5068     0.000039\n",
      "           ...   \n",
      "50178    0.000039\n",
      "50149    0.000039\n",
      "50100    0.000039\n",
      "50098    0.000039\n",
      "26456    0.000039\n",
      "Name: Unnamed: 0, Length: 25581, dtype: float64\n",
      "00060.png    0.000039\n",
      "05080.png    0.000039\n",
      "05073.png    0.000039\n",
      "05070.png    0.000039\n",
      "05068.png    0.000039\n",
      "               ...   \n",
      "55737.png    0.000039\n",
      "55708.png    0.000039\n",
      "55659.png    0.000039\n",
      "55657.png    0.000039\n",
      "32015.png    0.000039\n",
      "Name: Name, Length: 25581, dtype: float64\n",
      "pos        0.519683\n",
      "neg        0.254798\n",
      "neutral    0.225519\n",
      "Name: FacialExp, dtype: float64\n",
      "0                   0.667018\n",
      "1                   0.332786\n",
      "No face detected    0.000195\n",
      "Name: Glasses, dtype: float64\n",
      "Man      0.585513\n",
      "Woman    0.414487\n",
      "Name: Gender, dtype: float64\n",
      "white              0.305344\n",
      "asian              0.302920\n",
      "latino hispanic    0.285564\n",
      "black              0.106173\n",
      "Name: Race, dtype: float64\n"
     ]
    }
   ],
   "source": [
    "for col in data.columns:\n",
    "    print(df[col].value_counts(normalize=True))"
   ]
  },
  {
   "cell_type": "code",
   "execution_count": null,
   "metadata": {},
   "outputs": [],
   "source": []
  }
 ],
 "metadata": {
  "kernelspec": {
   "display_name": "Python 3",
   "language": "python",
   "name": "python3"
  },
  "language_info": {
   "codemirror_mode": {
    "name": "ipython",
    "version": 3
   },
   "file_extension": ".py",
   "mimetype": "text/x-python",
   "name": "python",
   "nbconvert_exporter": "python",
   "pygments_lexer": "ipython3",
   "version": "3.9.13"
  },
  "orig_nbformat": 4
 },
 "nbformat": 4,
 "nbformat_minor": 2
}

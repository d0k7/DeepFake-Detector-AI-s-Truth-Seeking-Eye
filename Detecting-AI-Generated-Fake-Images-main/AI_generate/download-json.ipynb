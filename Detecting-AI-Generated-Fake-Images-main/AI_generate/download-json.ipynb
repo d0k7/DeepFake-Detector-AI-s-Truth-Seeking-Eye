{
 "cells": [
  {
   "cell_type": "code",
   "execution_count": 2,
   "metadata": {},
   "outputs": [],
   "source": [
    "import json\n",
    "import pandas as pd\n",
    "\n",
    "df = pd.read_json(\"/Users/scottlai/Desktop/coding_project/facerecognition/ffhq-dataset-v2.json\", orient='columns', lines=True)\n",
    "\n",
    "# Extract the required information\n",
    "data = []\n",
    "\n",
    "for column in df.columns:\n",
    "    entry = df[column][0]\n",
    "    photo_title = entry['metadata']['photo_title']\n",
    "    file_url = entry['image']['file_url']\n",
    "    file_path = entry['image']['file_path']\n",
    "    \n",
    "    data.append({\n",
    "        'photo_title': photo_title,\n",
    "        'file_url': file_url,\n",
    "        'file_path': file_path\n",
    "    })\n",
    "\n",
    "# Create a new DataFrame with the extracted data\n",
    "new_df = pd.DataFrame(data)\n",
    "\n",
    "# Print the first few rows of the new DataFrame\n",
    "new_df.head()\n",
    "new_df.to_csv(\"face.csv\")"
   ]
  },
  {
   "cell_type": "code",
   "execution_count": null,
   "metadata": {},
   "outputs": [],
   "source": []
  }
 ],
 "metadata": {
  "kernelspec": {
   "display_name": "Python 3",
   "language": "python",
   "name": "python3"
  },
  "language_info": {
   "codemirror_mode": {
    "name": "ipython",
    "version": 3
   },
   "file_extension": ".py",
   "mimetype": "text/x-python",
   "name": "python",
   "nbconvert_exporter": "python",
   "pygments_lexer": "ipython3",
   "version": "3.9.13"
  },
  "orig_nbformat": 4
 },
 "nbformat": 4,
 "nbformat_minor": 2
}

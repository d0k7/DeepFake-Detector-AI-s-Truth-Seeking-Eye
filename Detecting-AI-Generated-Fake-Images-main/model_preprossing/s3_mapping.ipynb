{
 "cells": [
  {
   "cell_type": "code",
   "execution_count": 7,
   "metadata": {},
   "outputs": [],
   "source": [
    "import boto3\n",
    "import pandas as pd\n",
    "\n",
    "s3 = boto3.resource('s3')\n",
    "bucket_name = 'dalle2images'\n",
    "my_bucket = s3.Bucket(bucket_name)"
   ]
  },
  {
   "cell_type": "code",
   "execution_count": 10,
   "metadata": {},
   "outputs": [],
   "source": [
    "# get list of fake image names from the \"fake\" folder\n",
    "fake_image_names = []\n",
    "for object in my_bucket.objects.filter(Prefix='fake/'):\n",
    "    fake_image_names.append(object.key.split(\"/\")[-1])\n"
   ]
  },
  {
   "cell_type": "code",
   "execution_count": 20,
   "metadata": {},
   "outputs": [],
   "source": [
    "# load merged dataframe\n",
    "df = pd.read_csv(\"/Users/scottlai/Desktop/coding_project/705project/DallE2-ai-generator-scott/AI_generate/df_final.csv\")\n"
   ]
  },
  {
   "cell_type": "code",
   "execution_count": 22,
   "metadata": {},
   "outputs": [],
   "source": [
    "# filter out fake image names from the merged dataframe and get their corresponding class\n",
    "fake_image_class = []\n",
    "for image_name in fake_image_names:\n",
    "    row = df.loc[df['Name'] == image_name]\n",
    "    if not row.empty:\n",
    "        fake_image_class.append(row.iloc[0][['Name','FacialExp', 'Glasses', 'Gender', 'Race']].tolist())\n"
   ]
  },
  {
   "cell_type": "code",
   "execution_count": 23,
   "metadata": {},
   "outputs": [],
   "source": [
    "# create a new dataframe containing the fake image names and their corresponding class\n",
    "fake_image_df = pd.DataFrame(fake_image_class)\n"
   ]
  },
  {
   "cell_type": "code",
   "execution_count": 24,
   "metadata": {},
   "outputs": [
    {
     "data": {
      "text/html": [
       "<div>\n",
       "<style scoped>\n",
       "    .dataframe tbody tr th:only-of-type {\n",
       "        vertical-align: middle;\n",
       "    }\n",
       "\n",
       "    .dataframe tbody tr th {\n",
       "        vertical-align: top;\n",
       "    }\n",
       "\n",
       "    .dataframe thead th {\n",
       "        text-align: right;\n",
       "    }\n",
       "</style>\n",
       "<table border=\"1\" class=\"dataframe\">\n",
       "  <thead>\n",
       "    <tr style=\"text-align: right;\">\n",
       "      <th></th>\n",
       "      <th>0</th>\n",
       "      <th>1</th>\n",
       "      <th>2</th>\n",
       "      <th>3</th>\n",
       "      <th>4</th>\n",
       "    </tr>\n",
       "  </thead>\n",
       "  <tbody>\n",
       "    <tr>\n",
       "      <th>0</th>\n",
       "      <td>00000.png</td>\n",
       "      <td>neutral</td>\n",
       "      <td>0</td>\n",
       "      <td>Woman</td>\n",
       "      <td>asian</td>\n",
       "    </tr>\n",
       "    <tr>\n",
       "      <th>1</th>\n",
       "      <td>00002.png</td>\n",
       "      <td>neutral</td>\n",
       "      <td>0</td>\n",
       "      <td>Woman</td>\n",
       "      <td>black</td>\n",
       "    </tr>\n",
       "    <tr>\n",
       "      <th>2</th>\n",
       "      <td>00004.png</td>\n",
       "      <td>neutral</td>\n",
       "      <td>0</td>\n",
       "      <td>Man</td>\n",
       "      <td>latino hispanic</td>\n",
       "    </tr>\n",
       "    <tr>\n",
       "      <th>3</th>\n",
       "      <td>00006.png</td>\n",
       "      <td>pos</td>\n",
       "      <td>0</td>\n",
       "      <td>Woman</td>\n",
       "      <td>white</td>\n",
       "    </tr>\n",
       "    <tr>\n",
       "      <th>4</th>\n",
       "      <td>00008.png</td>\n",
       "      <td>pos</td>\n",
       "      <td>1</td>\n",
       "      <td>Woman</td>\n",
       "      <td>asian</td>\n",
       "    </tr>\n",
       "    <tr>\n",
       "      <th>...</th>\n",
       "      <td>...</td>\n",
       "      <td>...</td>\n",
       "      <td>...</td>\n",
       "      <td>...</td>\n",
       "      <td>...</td>\n",
       "    </tr>\n",
       "    <tr>\n",
       "      <th>21429</th>\n",
       "      <td>69980.png</td>\n",
       "      <td>neg</td>\n",
       "      <td>0</td>\n",
       "      <td>Man</td>\n",
       "      <td>white</td>\n",
       "    </tr>\n",
       "    <tr>\n",
       "      <th>21430</th>\n",
       "      <td>69986.png</td>\n",
       "      <td>neg</td>\n",
       "      <td>0</td>\n",
       "      <td>Woman</td>\n",
       "      <td>white</td>\n",
       "    </tr>\n",
       "    <tr>\n",
       "      <th>21431</th>\n",
       "      <td>69990.png</td>\n",
       "      <td>pos</td>\n",
       "      <td>0</td>\n",
       "      <td>Man</td>\n",
       "      <td>latino hispanic</td>\n",
       "    </tr>\n",
       "    <tr>\n",
       "      <th>21432</th>\n",
       "      <td>69997.png</td>\n",
       "      <td>neg</td>\n",
       "      <td>1</td>\n",
       "      <td>Man</td>\n",
       "      <td>asian</td>\n",
       "    </tr>\n",
       "    <tr>\n",
       "      <th>21433</th>\n",
       "      <td>69999.png</td>\n",
       "      <td>pos</td>\n",
       "      <td>0</td>\n",
       "      <td>Man</td>\n",
       "      <td>latino hispanic</td>\n",
       "    </tr>\n",
       "  </tbody>\n",
       "</table>\n",
       "<p>21434 rows × 5 columns</p>\n",
       "</div>"
      ],
      "text/plain": [
       "               0        1  2      3                4\n",
       "0      00000.png  neutral  0  Woman            asian\n",
       "1      00002.png  neutral  0  Woman            black\n",
       "2      00004.png  neutral  0    Man  latino hispanic\n",
       "3      00006.png      pos  0  Woman            white\n",
       "4      00008.png      pos  1  Woman            asian\n",
       "...          ...      ... ..    ...              ...\n",
       "21429  69980.png      neg  0    Man            white\n",
       "21430  69986.png      neg  0  Woman            white\n",
       "21431  69990.png      pos  0    Man  latino hispanic\n",
       "21432  69997.png      neg  1    Man            asian\n",
       "21433  69999.png      pos  0    Man  latino hispanic\n",
       "\n",
       "[21434 rows x 5 columns]"
      ]
     },
     "execution_count": 24,
     "metadata": {},
     "output_type": "execute_result"
    }
   ],
   "source": [
    "fake_image_df"
   ]
  },
  {
   "cell_type": "code",
   "execution_count": 25,
   "metadata": {},
   "outputs": [],
   "source": [
    "# save the dataframe to a new csv file\n",
    "fake_image_df.to_csv('fake_image_class.csv', index=False)"
   ]
  },
  {
   "cell_type": "code",
   "execution_count": null,
   "metadata": {},
   "outputs": [],
   "source": []
  }
 ],
 "metadata": {
  "kernelspec": {
   "display_name": "Python 3",
   "language": "python",
   "name": "python3"
  },
  "language_info": {
   "codemirror_mode": {
    "name": "ipython",
    "version": 3
   },
   "file_extension": ".py",
   "mimetype": "text/x-python",
   "name": "python",
   "nbconvert_exporter": "python",
   "pygments_lexer": "ipython3",
   "version": "3.9.13"
  },
  "orig_nbformat": 4
 },
 "nbformat": 4,
 "nbformat_minor": 2
}
